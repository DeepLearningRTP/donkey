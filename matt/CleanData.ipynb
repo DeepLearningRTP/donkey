{
 "cells": [
  {
   "cell_type": "code",
   "execution_count": 58,
   "metadata": {
    "collapsed": false
   },
   "outputs": [],
   "source": [
    "import csv\n",
    "import cv2\n",
    "import importlib as imp\n",
    "import itertools\n",
    "import matplotlib.pyplot as plt\n",
    "import numpy as np\n",
    "import os\n",
    "import pandas\n",
    "import scipy\n",
    "import sklearn\n",
    "import shutil\n",
    "import tensorflow as tf\n",
    "import time\n",
    "\n",
    "from distutils.dir_util import copy_tree\n",
    "from pandas.tools.plotting import scatter_matrix\n",
    "#from scipy.spatial.distance import mahalanobis # Not vectorized and terribly slow!\n",
    "from sklearn import mixture\n",
    "from sklearn.decomposition import PCA, KernelPCA\n",
    "from sklearn.metrics import silhouette_samples\n",
    "\n",
    "pj = os.path.join\n",
    "\n",
    "%matplotlib inline"
   ]
  },
  {
   "cell_type": "code",
   "execution_count": 4,
   "metadata": {
    "collapsed": false
   },
   "outputs": [
    {
     "name": "stderr",
     "output_type": "stream",
     "text": [
      "Using TensorFlow backend.\n"
     ]
    }
   ],
   "source": [
    "import donkeycar as dk"
   ]
  },
  {
   "cell_type": "code",
   "execution_count": 54,
   "metadata": {
    "collapsed": true
   },
   "outputs": [],
   "source": [
    "g_tubs_dir = \"J:/RaspberryPi/DonkeyCar/tubs\"\n",
    "g_tub_dir = pj(g_tubs_dir, \"tubs_all\")\n",
    "g_tub_meta_dir = pj(g_tubs_dir, \"tubs_raw\")\n",
    "g_videos_dir = \"J:\\RaspberryPi\\DonkeyCar\\videos\"\n",
    "\n",
    "X_keys = ['cam/image_array']\n",
    "y_keys = ['user/angle', 'user/throttle']\n",
    "X_key = X_keys[0]\n",
    "ANGLE = y_keys[0]\n",
    "THROT = y_keys[1]"
   ]
  },
  {
   "cell_type": "code",
   "execution_count": 59,
   "metadata": {
    "collapsed": false
   },
   "outputs": [
    {
     "name": "stdout",
     "output_type": "stream",
     "text": [
      "Tub does exist\n",
      "Tub does exist\n",
      "Tub does exist\n",
      "Tub does exist\n"
     ]
    }
   ],
   "source": [
    "if os.path.exists(g_tub_dir):\n",
    "    shutil.rmtree(g_tub_dir)\n",
    "    time.sleep(1)\n",
    "os.makedirs(g_tub_dir)\n",
    "\n",
    "dfull = pj( g_tub_meta_dir, os.listdir(g_tub_meta_dir)[0] )\n",
    "copy_tree(dfull, g_tub_dir)\n",
    "\n",
    "tub = dk.Tub(g_tub_dir)\n",
    "for d in os.listdir(g_tub_meta_dir)[1:]:\n",
    "    dfull = pj( g_tub_meta_dir, d )\n",
    "    tub_d = dk.Tub(dfull)\n",
    "    for i in range(tub_d.get_last_ix()):\n",
    "        tub.put_record( tub_d.get_record(i) )"
   ]
  },
  {
   "cell_type": "code",
   "execution_count": 60,
   "metadata": {
    "collapsed": false
   },
   "outputs": [
    {
     "data": {
      "text/plain": [
       "{'cam/image_array': array([[[ 36,  36,   0],\n",
       "         [ 55,  55,   1],\n",
       "         [ 73,  73,  19],\n",
       "         ..., \n",
       "         [186, 219, 140],\n",
       "         [181, 215, 131],\n",
       "         [161, 197, 110]],\n",
       " \n",
       "        [[ 53,  53,   0],\n",
       "         [ 67,  67,  13],\n",
       "         [ 80,  80,  26],\n",
       "         ..., \n",
       "         [182, 212, 138],\n",
       "         [189, 220, 142],\n",
       "         [171, 202, 122]],\n",
       " \n",
       "        [[ 67,  67,  13],\n",
       "         [ 76,  76,  22],\n",
       "         [ 83,  83,  29],\n",
       "         ..., \n",
       "         [203, 225, 160],\n",
       "         [185, 210, 142],\n",
       "         [179, 205, 134]],\n",
       " \n",
       "        ..., \n",
       "        [[ 25,  18,   0],\n",
       "         [101,  91,  32],\n",
       "         [198, 181, 111],\n",
       "         ..., \n",
       "         [239, 221,  59],\n",
       "         [255, 250,  72],\n",
       "         [182, 167,   0]],\n",
       " \n",
       "        [[ 78,  64,   3],\n",
       "         [201, 186, 119],\n",
       "         [217, 195, 119],\n",
       "         ..., \n",
       "         [239, 217,  45],\n",
       "         [232, 209,   9],\n",
       "         [252, 229,  13]],\n",
       " \n",
       "        [[202, 185, 116],\n",
       "         [202, 182, 109],\n",
       "         [204, 179,  97],\n",
       "         ..., \n",
       "         [190, 163,   0],\n",
       "         [236, 209,   0],\n",
       "         [246, 218,   0]]], dtype=uint8),\n",
       " 'user/angle': 0,\n",
       " 'user/mode': 'user',\n",
       " 'user/throttle': 0.4850798971751254}"
      ]
     },
     "execution_count": 60,
     "metadata": {},
     "output_type": "execute_result"
    }
   ],
   "source": [
    "tub.get_record(22)"
   ]
  },
  {
   "cell_type": "code",
   "execution_count": 61,
   "metadata": {
    "collapsed": false
   },
   "outputs": [
    {
     "data": {
      "text/plain": [
       "14703"
      ]
     },
     "execution_count": 61,
     "metadata": {},
     "output_type": "execute_result"
    }
   ],
   "source": [
    "tub.get_last_ix()"
   ]
  },
  {
   "cell_type": "code",
   "execution_count": 62,
   "metadata": {
    "collapsed": false
   },
   "outputs": [
    {
     "name": "stdout",
     "output_type": "stream",
     "text": [
      "J:/RaspberryPi/DonkeyCar/projects/donkey/donkeycar/tub_video.avi\n"
     ]
    }
   ],
   "source": [
    "rec = tub.get_record(22)\n",
    "f = cv2.cvtColor(rec[X_key], cv2.COLOR_RGB2BGR)\n",
    "print(pj(g_donkey_dir, \"tub_video.avi\"))"
   ]
  },
  {
   "cell_type": "code",
   "execution_count": 63,
   "metadata": {
    "collapsed": true
   },
   "outputs": [],
   "source": [
    "def write_frames(frames, file_name, fps=30):\n",
    "    if len(frames)==0:\n",
    "        raise RuntimeError(\"Empty frames list\")\n",
    "    frame_size = (frames[0].shape[1], frames[0].shape[0])\n",
    "    video_writer = cv2.VideoWriter(file_name, -1, fps, frame_size)\n",
    "    for f in frames:\n",
    "        video_writer.write(f)\n",
    "    cv2.destroyAllWindows()\n",
    "    video_writer.release()"
   ]
  },
  {
   "cell_type": "code",
   "execution_count": 64,
   "metadata": {
    "collapsed": true
   },
   "outputs": [],
   "source": [
    "frames_raw = []\n",
    "for ix in range(tub.get_last_ix()):\n",
    "    rec = tub.get_record(ix)\n",
    "    f = cv2.cvtColor(rec[X_key], cv2.COLOR_RGB2BGR)\n",
    "    frames_raw.append(f)"
   ]
  },
  {
   "cell_type": "code",
   "execution_count": 65,
   "metadata": {
    "collapsed": false
   },
   "outputs": [],
   "source": [
    "frames_h60 = []\n",
    "for ix in range(tub.get_last_ix()):\n",
    "    rec = tub.get_record(ix)\n",
    "    f = cv2.cvtColor(rec[X_key], cv2.COLOR_RGB2BGR)\n",
    "    frames_h60.append(f[60:,:,:])"
   ]
  },
  {
   "cell_type": "code",
   "execution_count": 66,
   "metadata": {
    "collapsed": false
   },
   "outputs": [
    {
     "data": {
      "text/plain": [
       "<matplotlib.image.AxesImage at 0x1fa1a054da0>"
      ]
     },
     "execution_count": 66,
     "metadata": {},
     "output_type": "execute_result"
    },
    {
     "data": {
      "image/png": "[encoded data removed]",
      "text/plain": [
       "<matplotlib.figure.Figure at 0x1fa03858da0>"
      ]
     },
     "metadata": {},
     "output_type": "display_data"
    }
   ],
   "source": [
    "plt.imshow(frames_h60[0])"
   ]
  },
  {
   "cell_type": "code",
   "execution_count": 67,
   "metadata": {
    "collapsed": false
   },
   "outputs": [],
   "source": [
    "frames_2h = []\n",
    "for f in frames_h60:\n",
    "    f = cv2.resize(f, (160,120), interpolation = cv2.INTER_NEAREST)\n",
    "    frames_2h.append(f)"
   ]
  },
  {
   "cell_type": "code",
   "execution_count": 69,
   "metadata": {
    "collapsed": true
   },
   "outputs": [],
   "source": [
    "write_frames(frames_raw, pj(g_videos_dir, \"tub_video.avi\"))\n",
    "write_frames(frames_h60, pj(g_videos_dir, \"tub_video_h60.avi\"))\n",
    "write_frames(frames_2h, pj(g_videos_dir, \"tub_video_2h.avi\"))"
   ]
  },
  {
   "cell_type": "code",
   "execution_count": null,
   "metadata": {
    "collapsed": true
   },
   "outputs": [],
   "source": []
  },
  {
   "cell_type": "code",
   "execution_count": 70,
   "metadata": {
    "collapsed": false
   },
   "outputs": [],
   "source": [
    "def differentiate_frames(frames, video_file=None):\n",
    "    deltas = []\n",
    "    dframes = []\n",
    "    for i in range(len(frames)):\n",
    "        if i==0:\n",
    "            continue\n",
    "        f_i = np.array( cv2.cvtColor(frames[i], cv2.COLOR_RGB2GRAY), dtype=np.int16)\n",
    "        f_im1 = np.array( cv2.cvtColor(frames[i-1], cv2.COLOR_RGB2GRAY), dtype=np.int16)\n",
    "        d = np.mean( np.square(f_i - f_im1) )\n",
    "        deltas.append(d)\n",
    "\n",
    "        df_rgb = np.zeros_like(frames[0], dtype=np.uint8)\n",
    "        for c in range(3):\n",
    "            f_i_c = np.array( np.squeeze( frames[i][:,:,c] ), dtype=np.int16)\n",
    "            f_im1_c = np.array( np.squeeze( frames[i-1][:,:,c] ), dtype=np.int16)\n",
    "            df_c = np.array( ((f_i_c - f_im1_c) // 2) + 127, dtype=np.uint8)\n",
    "            df_rgb[:,:,c] = df_c\n",
    "            \n",
    "        dframes.append(df_rgb)\n",
    "        \n",
    "    if video_file is not None:\n",
    "        write_frames(dframes, video_file)\n",
    "        \n",
    "    return deltas, dframes"
   ]
  },
  {
   "cell_type": "code",
   "execution_count": 72,
   "metadata": {
    "collapsed": false
   },
   "outputs": [],
   "source": [
    "differentiate_frames(frames_raw, pj(g_donkey_dir, \"tub_diffs_rgb.avi\") );"
   ]
  },
  {
   "cell_type": "code",
   "execution_count": 73,
   "metadata": {
    "collapsed": false
   },
   "outputs": [
    {
     "data": {
      "text/plain": [
       "(array([  2.10000000e+01,   2.00000000e+00,   2.00000000e+00,\n",
       "          1.00000000e+00,   2.00000000e+00,   2.00000000e+00,\n",
       "          1.00000000e+00,   0.00000000e+00,   1.00000000e+00,\n",
       "          0.00000000e+00,   0.00000000e+00,   3.00000000e+00,\n",
       "          0.00000000e+00,   2.00000000e+00,   2.00000000e+00,\n",
       "          2.00000000e+00,   0.00000000e+00,   3.00000000e+00,\n",
       "          1.20000000e+01,   6.00000000e+00,   2.00000000e+00,\n",
       "          4.00000000e+00,   7.00000000e+00,   1.30000000e+01,\n",
       "          2.60000000e+01,   2.91700000e+03,   9.50000000e+01,\n",
       "          5.10000000e+01,   9.60000000e+01,   7.10000000e+01,\n",
       "          7.00000000e+01,   8.60000000e+01,   8.30000000e+01,\n",
       "          1.26000000e+02,   1.40000000e+02,   1.66000000e+02,\n",
       "          2.12000000e+02,   2.84000000e+02,   3.50000000e+02,\n",
       "          3.85000000e+02,   4.98000000e+02,   5.62000000e+02,\n",
       "          6.51000000e+02,   1.37900000e+03,   1.22500000e+03,\n",
       "          3.53300000e+03,   1.18400000e+03,   0.00000000e+00,\n",
       "          0.00000000e+00,   4.25000000e+02]),\n",
       " array([-1.  , -0.96, -0.92, -0.88, -0.84, -0.8 , -0.76, -0.72, -0.68,\n",
       "        -0.64, -0.6 , -0.56, -0.52, -0.48, -0.44, -0.4 , -0.36, -0.32,\n",
       "        -0.28, -0.24, -0.2 , -0.16, -0.12, -0.08, -0.04,  0.  ,  0.04,\n",
       "         0.08,  0.12,  0.16,  0.2 ,  0.24,  0.28,  0.32,  0.36,  0.4 ,\n",
       "         0.44,  0.48,  0.52,  0.56,  0.6 ,  0.64,  0.68,  0.72,  0.76,\n",
       "         0.8 ,  0.84,  0.88,  0.92,  0.96,  1.  ]),\n",
       " <a list of 50 Patch objects>)"
      ]
     },
     "execution_count": 73,
     "metadata": {},
     "output_type": "execute_result"
    },
    {
     "data": {
      "image/png": "[encoded data removed]",
      "text/plain": [
       "<matplotlib.figure.Figure at 0x1fa03a9d4a8>"
      ]
     },
     "metadata": {},
     "output_type": "display_data"
    },
    {
     "data": {
      "image/png": "[encoded data removed]",
      "text/plain": [
       "<matplotlib.figure.Figure at 0x1fa1a07a1d0>"
      ]
     },
     "metadata": {},
     "output_type": "display_data"
    }
   ],
   "source": [
    "angles = []\n",
    "throts = []\n",
    "for i in range(len(frames_h60)):\n",
    "    rec = tub.get_record(i)\n",
    "    angle = rec[ANGLE]\n",
    "    angles.append(angle)\n",
    "    throt = rec[THROT]\n",
    "    throts.append(throt)\n",
    "\n",
    "plt.figure()\n",
    "plt.hist(angles,bins=50)\n",
    "plt.figure()\n",
    "plt.hist(throts,bins=50)"
   ]
  },
  {
   "cell_type": "code",
   "execution_count": 74,
   "metadata": {
    "collapsed": false
   },
   "outputs": [
    {
     "name": "stdout",
     "output_type": "stream",
     "text": [
      "Number of simultaneous angle, throttle zeros:  492\n"
     ]
    }
   ],
   "source": [
    "zeros_ct = 0\n",
    "for a, t in zip(angles, throts):\n",
    "    if np.abs(a)<0.01 and np.abs(t)<0.01:\n",
    "        zeros_ct += 1\n",
    "        \n",
    "print(\"Number of simultaneous angle, throttle zeros: \" , zeros_ct)"
   ]
  },
  {
   "cell_type": "code",
   "execution_count": 75,
   "metadata": {
    "collapsed": false
   },
   "outputs": [
    {
     "data": {
      "image/png": "[encoded data removed]",
      "text/plain": [
       "<matplotlib.figure.Figure at 0x1fa1a28ae48>"
      ]
     },
     "metadata": {},
     "output_type": "display_data"
    }
   ],
   "source": [
    "plt.hist(deltas,bins=100);"
   ]
  },
  {
   "cell_type": "code",
   "execution_count": 76,
   "metadata": {
    "collapsed": false
   },
   "outputs": [],
   "source": [
    "def make_clean_tub(tub_name, frames_for_diff, frames_to_copy, tub_origin):\n",
    "    tub_full_path = pj(g_tubs_dir, tub_name)\n",
    "    if os.path.exists(tub_full_path):\n",
    "        shutil.rmtree(tub_full_path)\n",
    "        time.sleep(1)\n",
    "\n",
    "    os.makedirs(tub_full_path)\n",
    "    shutil.copyfile( pj(g_tubs_dir, \"meta.json\"), pj(tub_full_path, \"meta.json\"))\n",
    "    shutil.copyfile( pj(tub_origin.path, \"0_cam-image_array_.jpg\"), pj(tub_full_path, \"0_cam-image_array_.jpg\"))\n",
    "    shutil.copyfile( pj(tub_origin.path, \"record_0.json\"), pj(tub_full_path, \"record_0.json\"))\n",
    "\n",
    "    tub_clean = dk.Tub(tub_full_path)\n",
    "    \n",
    "    frames_clean = []\n",
    "    deltas,_ = differentiate_frames(frames_for_diff)\n",
    "    for i,d in enumerate(deltas):\n",
    "        if d > 5:\n",
    "            rec = tub_origin.get_record(i+1)\n",
    "            rec[X_key] = cv2.cvtColor(frames_to_copy[i+1], cv2.COLOR_BGR2RGB)\n",
    "            tub_clean.put_record(rec)\n",
    "            frames_clean.append( frames_to_copy[i+1] )\n",
    "        \n",
    "    return frames_clean"
   ]
  },
  {
   "cell_type": "code",
   "execution_count": 77,
   "metadata": {
    "collapsed": false
   },
   "outputs": [
    {
     "name": "stdout",
     "output_type": "stream",
     "text": [
      "Tub does exist\n"
     ]
    }
   ],
   "source": [
    "frames_clean = make_clean_tub(\"tub_clean\", frames_h60, frames_2h, tub)"
   ]
  },
  {
   "cell_type": "code",
   "execution_count": 78,
   "metadata": {
    "collapsed": true
   },
   "outputs": [],
   "source": [
    "write_frames(frames_clean, pj(g_videos_dir, \"tub_clean_video.avi\"))"
   ]
  },
  {
   "cell_type": "code",
   "execution_count": 80,
   "metadata": {
    "collapsed": false
   },
   "outputs": [
    {
     "name": "stdout",
     "output_type": "stream",
     "text": [
      "Tub does exist\n"
     ]
    }
   ],
   "source": [
    "_,dframes = differentiate_frames(frames_2h)\n",
    "tub_diffs = dk.Tub( pj(g_tubs_dir, \"tub_diffs\") )\n",
    "for i, f in enumerate(frames_2h[1:]):\n",
    "    rec = tub.get_record(i)\n",
    "    rec[X_key] = cv2.cvtColor(dframes[i-1], cv2.COLOR_BGR2RGB)\n",
    "    tub_diffs.put_record(rec)\n",
    "    "
   ]
  },
  {
   "cell_type": "code",
   "execution_count": null,
   "metadata": {
    "collapsed": true
   },
   "outputs": [],
   "source": []
  }
 ],
 "metadata": {
  "kernelspec": {
   "display_name": "Python 3",
   "language": "python",
   "name": "python3"
  },
  "language_info": {
   "codemirror_mode": {
    "name": "ipython",
    "version": 3
   },
   "file_extension": ".py",
   "mimetype": "text/x-python",
   "name": "python",
   "nbconvert_exporter": "python",
   "pygments_lexer": "ipython3",
   "version": "3.6.0"
  }
 },
 "nbformat": 4,
 "nbformat_minor": 2
}
