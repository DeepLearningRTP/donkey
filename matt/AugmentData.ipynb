{
 "cells": [
  {
   "cell_type": "code",
   "execution_count": 10,
   "metadata": {
    "collapsed": true
   },
   "outputs": [],
   "source": [
    "import csv\n",
    "import cv2\n",
    "import importlib as imp\n",
    "import itertools\n",
    "import matplotlib.pyplot as plt\n",
    "import numpy as np\n",
    "import os\n",
    "import pandas\n",
    "import scipy\n",
    "import sklearn\n",
    "import shutil\n",
    "import time\n",
    "\n",
    "pj = os.path.join\n",
    "\n",
    "%matplotlib inline"
   ]
  },
  {
   "cell_type": "code",
   "execution_count": 3,
   "metadata": {
    "collapsed": false
   },
   "outputs": [
    {
     "name": "stderr",
     "output_type": "stream",
     "text": [
      "Using TensorFlow backend.\n"
     ]
    }
   ],
   "source": [
    "import donkeycar as dk"
   ]
  },
  {
   "cell_type": "code",
   "execution_count": 22,
   "metadata": {
    "collapsed": true
   },
   "outputs": [],
   "source": [
    "g_tubs_dir = \"J:/RaspberryPi/DonkeyCar/tubs\"\n",
    "g_tub_dir = pj(g_tubs_dir, \"tub_clean\")\n",
    "g_tub_meta_dir = pj(g_tubs_dir, \"tubs_raw\")\n",
    "g_videos_dir = \"J:\\RaspberryPi\\DonkeyCar\\videos\"\n",
    "\n",
    "X_keys = ['cam/image_array']\n",
    "y_keys = ['user/angle', 'user/throttle']\n",
    "X_key = X_keys[0]\n",
    "ANGLE = y_keys[0]\n",
    "THROT = y_keys[1]"
   ]
  },
  {
   "cell_type": "code",
   "execution_count": 23,
   "metadata": {
    "collapsed": false
   },
   "outputs": [
    {
     "name": "stdout",
     "output_type": "stream",
     "text": [
      "Tub does exist\n"
     ]
    }
   ],
   "source": [
    "tub = dk.Tub(g_tub_dir)"
   ]
  },
  {
   "cell_type": "code",
   "execution_count": 24,
   "metadata": {
    "collapsed": true
   },
   "outputs": [],
   "source": [
    "g_tub_aug = pj(g_tubs_dir, \"tub_aug\")"
   ]
  },
  {
   "cell_type": "code",
   "execution_count": 25,
   "metadata": {
    "collapsed": true
   },
   "outputs": [],
   "source": [
    "delta = 20\n",
    "def augment(tub_origin, tub_name):\n",
    "    tub_full_path = pj(g_tubs_dir, tub_name)\n",
    "    if os.path.exists(tub_full_path):\n",
    "        shutil.rmtree(tub_full_path)\n",
    "        time.sleep(1)\n",
    "\n",
    "    os.makedirs(tub_full_path)\n",
    "    shutil.copyfile( pj(g_tubs_dir, \"meta.json\"), pj(tub_full_path, \"meta.json\"))\n",
    "    shutil.copyfile( pj(tub_origin.path, \"0_cam-image_array_.jpg\"), pj(tub_full_path, \"0_cam-image_array_.jpg\"))\n",
    "    shutil.copyfile( pj(tub_origin.path, \"record_0.json\"), pj(tub_full_path, \"record_0.json\"))\n",
    "\n",
    "    tub_aug = dk.Tub(tub_full_path)\n",
    "    for i in range(tub_origin.get_last_ix()):\n",
    "        rec = tub_origin.get_record(i)\n",
    "        frame_size = (rec[X_key].shape[1], rec[X_key].shape[0])\n",
    "        original_img = np.copy( rec[X_key] )\n",
    "        \n",
    "        f = np.copy( original_img )\n",
    "        f = f[delta:, delta:, :]\n",
    "        f = cv2.resize(f, frame_size)\n",
    "        rec[X_key] = f\n",
    "        tub_aug.put_record(rec)\n",
    "        \n",
    "        f = np.copy( original_img )\n",
    "        f = f[delta:, :-delta, :]\n",
    "        f = cv2.resize(f, frame_size)\n",
    "        rec[X_key] = f\n",
    "        tub_aug.put_record(rec)\n",
    "        \n",
    "        f = np.copy( original_img )\n",
    "        f = f[:-delta, delta:, :]\n",
    "        f = cv2.resize(f, frame_size)\n",
    "        rec[X_key] = f\n",
    "        tub_aug.put_record(rec)\n",
    "        \n",
    "        f = np.copy( original_img )\n",
    "        f = f[:-delta, :-delta, :]\n",
    "        f = cv2.resize(f, frame_size)\n",
    "        rec[X_key] = f\n",
    "        tub_aug.put_record(rec)\n",
    "        "
   ]
  },
  {
   "cell_type": "code",
   "execution_count": 26,
   "metadata": {
    "collapsed": false
   },
   "outputs": [
    {
     "name": "stdout",
     "output_type": "stream",
     "text": [
      "Tub does exist\n"
     ]
    }
   ],
   "source": [
    "augment(tub, g_tub_aug)"
   ]
  },
  {
   "cell_type": "code",
   "execution_count": null,
   "metadata": {
    "collapsed": true
   },
   "outputs": [],
   "source": []
  }
 ],
 "metadata": {
  "kernelspec": {
   "display_name": "Python 3",
   "language": "python",
   "name": "python3"
  },
  "language_info": {
   "codemirror_mode": {
    "name": "ipython",
    "version": 3
   },
   "file_extension": ".py",
   "mimetype": "text/x-python",
   "name": "python",
   "nbconvert_exporter": "python",
   "pygments_lexer": "ipython3",
   "version": "3.6.0"
  }
 },
 "nbformat": 4,
 "nbformat_minor": 2
}
